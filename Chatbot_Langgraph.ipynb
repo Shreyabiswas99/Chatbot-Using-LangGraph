{
  "nbformat": 4,
  "nbformat_minor": 0,
  "metadata": {
    "colab": {
      "provenance": []
    },
    "kernelspec": {
      "name": "python3",
      "display_name": "Python 3"
    },
    "language_info": {
      "name": "python"
    }
  },
  "cells": [
    {
      "cell_type": "code",
      "execution_count": 1,
      "metadata": {
        "colab": {
          "base_uri": "https://localhost:8080/"
        },
        "id": "IDwt3pvjThck",
        "outputId": "b988c296-dd06-4eae-a4dd-27a050904ca5"
      },
      "outputs": [
        {
          "output_type": "stream",
          "name": "stdout",
          "text": [
            "Requirement already satisfied: langgraph in /usr/local/lib/python3.10/dist-packages (0.2.50)\n",
            "Requirement already satisfied: langchain-core!=0.3.0,!=0.3.1,!=0.3.10,!=0.3.11,!=0.3.12,!=0.3.13,!=0.3.14,!=0.3.2,!=0.3.3,!=0.3.4,!=0.3.5,!=0.3.6,!=0.3.7,!=0.3.8,!=0.3.9,<0.4.0,>=0.2.43 in /usr/local/lib/python3.10/dist-packages (from langgraph) (0.3.17)\n",
            "Requirement already satisfied: langgraph-checkpoint<3.0.0,>=2.0.4 in /usr/local/lib/python3.10/dist-packages (from langgraph) (2.0.4)\n",
            "Requirement already satisfied: langgraph-sdk<0.2.0,>=0.1.32 in /usr/local/lib/python3.10/dist-packages (from langgraph) (0.1.36)\n",
            "Requirement already satisfied: PyYAML>=5.3 in /usr/local/lib/python3.10/dist-packages (from langchain-core!=0.3.0,!=0.3.1,!=0.3.10,!=0.3.11,!=0.3.12,!=0.3.13,!=0.3.14,!=0.3.2,!=0.3.3,!=0.3.4,!=0.3.5,!=0.3.6,!=0.3.7,!=0.3.8,!=0.3.9,<0.4.0,>=0.2.43->langgraph) (6.0.2)\n",
            "Requirement already satisfied: jsonpatch<2.0,>=1.33 in /usr/local/lib/python3.10/dist-packages (from langchain-core!=0.3.0,!=0.3.1,!=0.3.10,!=0.3.11,!=0.3.12,!=0.3.13,!=0.3.14,!=0.3.2,!=0.3.3,!=0.3.4,!=0.3.5,!=0.3.6,!=0.3.7,!=0.3.8,!=0.3.9,<0.4.0,>=0.2.43->langgraph) (1.33)\n",
            "Requirement already satisfied: langsmith<0.2.0,>=0.1.125 in /usr/local/lib/python3.10/dist-packages (from langchain-core!=0.3.0,!=0.3.1,!=0.3.10,!=0.3.11,!=0.3.12,!=0.3.13,!=0.3.14,!=0.3.2,!=0.3.3,!=0.3.4,!=0.3.5,!=0.3.6,!=0.3.7,!=0.3.8,!=0.3.9,<0.4.0,>=0.2.43->langgraph) (0.1.142)\n",
            "Requirement already satisfied: packaging<25,>=23.2 in /usr/local/lib/python3.10/dist-packages (from langchain-core!=0.3.0,!=0.3.1,!=0.3.10,!=0.3.11,!=0.3.12,!=0.3.13,!=0.3.14,!=0.3.2,!=0.3.3,!=0.3.4,!=0.3.5,!=0.3.6,!=0.3.7,!=0.3.8,!=0.3.9,<0.4.0,>=0.2.43->langgraph) (24.2)\n",
            "Requirement already satisfied: pydantic<3.0.0,>=2.5.2 in /usr/local/lib/python3.10/dist-packages (from langchain-core!=0.3.0,!=0.3.1,!=0.3.10,!=0.3.11,!=0.3.12,!=0.3.13,!=0.3.14,!=0.3.2,!=0.3.3,!=0.3.4,!=0.3.5,!=0.3.6,!=0.3.7,!=0.3.8,!=0.3.9,<0.4.0,>=0.2.43->langgraph) (2.9.2)\n",
            "Requirement already satisfied: tenacity!=8.4.0,<10.0.0,>=8.1.0 in /usr/local/lib/python3.10/dist-packages (from langchain-core!=0.3.0,!=0.3.1,!=0.3.10,!=0.3.11,!=0.3.12,!=0.3.13,!=0.3.14,!=0.3.2,!=0.3.3,!=0.3.4,!=0.3.5,!=0.3.6,!=0.3.7,!=0.3.8,!=0.3.9,<0.4.0,>=0.2.43->langgraph) (9.0.0)\n",
            "Requirement already satisfied: typing-extensions>=4.7 in /usr/local/lib/python3.10/dist-packages (from langchain-core!=0.3.0,!=0.3.1,!=0.3.10,!=0.3.11,!=0.3.12,!=0.3.13,!=0.3.14,!=0.3.2,!=0.3.3,!=0.3.4,!=0.3.5,!=0.3.6,!=0.3.7,!=0.3.8,!=0.3.9,<0.4.0,>=0.2.43->langgraph) (4.12.2)\n",
            "Requirement already satisfied: msgpack<2.0.0,>=1.1.0 in /usr/local/lib/python3.10/dist-packages (from langgraph-checkpoint<3.0.0,>=2.0.4->langgraph) (1.1.0)\n",
            "Requirement already satisfied: httpx>=0.25.2 in /usr/local/lib/python3.10/dist-packages (from langgraph-sdk<0.2.0,>=0.1.32->langgraph) (0.27.2)\n",
            "Requirement already satisfied: httpx-sse>=0.4.0 in /usr/local/lib/python3.10/dist-packages (from langgraph-sdk<0.2.0,>=0.1.32->langgraph) (0.4.0)\n",
            "Requirement already satisfied: orjson>=3.10.1 in /usr/local/lib/python3.10/dist-packages (from langgraph-sdk<0.2.0,>=0.1.32->langgraph) (3.10.11)\n",
            "Requirement already satisfied: anyio in /usr/local/lib/python3.10/dist-packages (from httpx>=0.25.2->langgraph-sdk<0.2.0,>=0.1.32->langgraph) (3.7.1)\n",
            "Requirement already satisfied: certifi in /usr/local/lib/python3.10/dist-packages (from httpx>=0.25.2->langgraph-sdk<0.2.0,>=0.1.32->langgraph) (2024.8.30)\n",
            "Requirement already satisfied: httpcore==1.* in /usr/local/lib/python3.10/dist-packages (from httpx>=0.25.2->langgraph-sdk<0.2.0,>=0.1.32->langgraph) (1.0.6)\n",
            "Requirement already satisfied: idna in /usr/local/lib/python3.10/dist-packages (from httpx>=0.25.2->langgraph-sdk<0.2.0,>=0.1.32->langgraph) (3.10)\n",
            "Requirement already satisfied: sniffio in /usr/local/lib/python3.10/dist-packages (from httpx>=0.25.2->langgraph-sdk<0.2.0,>=0.1.32->langgraph) (1.3.1)\n",
            "Requirement already satisfied: h11<0.15,>=0.13 in /usr/local/lib/python3.10/dist-packages (from httpcore==1.*->httpx>=0.25.2->langgraph-sdk<0.2.0,>=0.1.32->langgraph) (0.14.0)\n",
            "Requirement already satisfied: jsonpointer>=1.9 in /usr/local/lib/python3.10/dist-packages (from jsonpatch<2.0,>=1.33->langchain-core!=0.3.0,!=0.3.1,!=0.3.10,!=0.3.11,!=0.3.12,!=0.3.13,!=0.3.14,!=0.3.2,!=0.3.3,!=0.3.4,!=0.3.5,!=0.3.6,!=0.3.7,!=0.3.8,!=0.3.9,<0.4.0,>=0.2.43->langgraph) (3.0.0)\n",
            "Requirement already satisfied: requests<3,>=2 in /usr/local/lib/python3.10/dist-packages (from langsmith<0.2.0,>=0.1.125->langchain-core!=0.3.0,!=0.3.1,!=0.3.10,!=0.3.11,!=0.3.12,!=0.3.13,!=0.3.14,!=0.3.2,!=0.3.3,!=0.3.4,!=0.3.5,!=0.3.6,!=0.3.7,!=0.3.8,!=0.3.9,<0.4.0,>=0.2.43->langgraph) (2.32.3)\n",
            "Requirement already satisfied: requests-toolbelt<2.0.0,>=1.0.0 in /usr/local/lib/python3.10/dist-packages (from langsmith<0.2.0,>=0.1.125->langchain-core!=0.3.0,!=0.3.1,!=0.3.10,!=0.3.11,!=0.3.12,!=0.3.13,!=0.3.14,!=0.3.2,!=0.3.3,!=0.3.4,!=0.3.5,!=0.3.6,!=0.3.7,!=0.3.8,!=0.3.9,<0.4.0,>=0.2.43->langgraph) (1.0.0)\n",
            "Requirement already satisfied: annotated-types>=0.6.0 in /usr/local/lib/python3.10/dist-packages (from pydantic<3.0.0,>=2.5.2->langchain-core!=0.3.0,!=0.3.1,!=0.3.10,!=0.3.11,!=0.3.12,!=0.3.13,!=0.3.14,!=0.3.2,!=0.3.3,!=0.3.4,!=0.3.5,!=0.3.6,!=0.3.7,!=0.3.8,!=0.3.9,<0.4.0,>=0.2.43->langgraph) (0.7.0)\n",
            "Requirement already satisfied: pydantic-core==2.23.4 in /usr/local/lib/python3.10/dist-packages (from pydantic<3.0.0,>=2.5.2->langchain-core!=0.3.0,!=0.3.1,!=0.3.10,!=0.3.11,!=0.3.12,!=0.3.13,!=0.3.14,!=0.3.2,!=0.3.3,!=0.3.4,!=0.3.5,!=0.3.6,!=0.3.7,!=0.3.8,!=0.3.9,<0.4.0,>=0.2.43->langgraph) (2.23.4)\n",
            "Requirement already satisfied: charset-normalizer<4,>=2 in /usr/local/lib/python3.10/dist-packages (from requests<3,>=2->langsmith<0.2.0,>=0.1.125->langchain-core!=0.3.0,!=0.3.1,!=0.3.10,!=0.3.11,!=0.3.12,!=0.3.13,!=0.3.14,!=0.3.2,!=0.3.3,!=0.3.4,!=0.3.5,!=0.3.6,!=0.3.7,!=0.3.8,!=0.3.9,<0.4.0,>=0.2.43->langgraph) (3.4.0)\n",
            "Requirement already satisfied: urllib3<3,>=1.21.1 in /usr/local/lib/python3.10/dist-packages (from requests<3,>=2->langsmith<0.2.0,>=0.1.125->langchain-core!=0.3.0,!=0.3.1,!=0.3.10,!=0.3.11,!=0.3.12,!=0.3.13,!=0.3.14,!=0.3.2,!=0.3.3,!=0.3.4,!=0.3.5,!=0.3.6,!=0.3.7,!=0.3.8,!=0.3.9,<0.4.0,>=0.2.43->langgraph) (2.2.3)\n",
            "Requirement already satisfied: exceptiongroup in /usr/local/lib/python3.10/dist-packages (from anyio->httpx>=0.25.2->langgraph-sdk<0.2.0,>=0.1.32->langgraph) (1.2.2)\n",
            "Requirement already satisfied: langsmith in /usr/local/lib/python3.10/dist-packages (0.1.142)\n",
            "Requirement already satisfied: httpx<1,>=0.23.0 in /usr/local/lib/python3.10/dist-packages (from langsmith) (0.27.2)\n",
            "Requirement already satisfied: orjson<4.0.0,>=3.9.14 in /usr/local/lib/python3.10/dist-packages (from langsmith) (3.10.11)\n",
            "Requirement already satisfied: pydantic<3,>=1 in /usr/local/lib/python3.10/dist-packages (from langsmith) (2.9.2)\n",
            "Requirement already satisfied: requests<3,>=2 in /usr/local/lib/python3.10/dist-packages (from langsmith) (2.32.3)\n",
            "Requirement already satisfied: requests-toolbelt<2.0.0,>=1.0.0 in /usr/local/lib/python3.10/dist-packages (from langsmith) (1.0.0)\n",
            "Requirement already satisfied: anyio in /usr/local/lib/python3.10/dist-packages (from httpx<1,>=0.23.0->langsmith) (3.7.1)\n",
            "Requirement already satisfied: certifi in /usr/local/lib/python3.10/dist-packages (from httpx<1,>=0.23.0->langsmith) (2024.8.30)\n",
            "Requirement already satisfied: httpcore==1.* in /usr/local/lib/python3.10/dist-packages (from httpx<1,>=0.23.0->langsmith) (1.0.6)\n",
            "Requirement already satisfied: idna in /usr/local/lib/python3.10/dist-packages (from httpx<1,>=0.23.0->langsmith) (3.10)\n",
            "Requirement already satisfied: sniffio in /usr/local/lib/python3.10/dist-packages (from httpx<1,>=0.23.0->langsmith) (1.3.1)\n",
            "Requirement already satisfied: h11<0.15,>=0.13 in /usr/local/lib/python3.10/dist-packages (from httpcore==1.*->httpx<1,>=0.23.0->langsmith) (0.14.0)\n",
            "Requirement already satisfied: annotated-types>=0.6.0 in /usr/local/lib/python3.10/dist-packages (from pydantic<3,>=1->langsmith) (0.7.0)\n",
            "Requirement already satisfied: pydantic-core==2.23.4 in /usr/local/lib/python3.10/dist-packages (from pydantic<3,>=1->langsmith) (2.23.4)\n",
            "Requirement already satisfied: typing-extensions>=4.6.1 in /usr/local/lib/python3.10/dist-packages (from pydantic<3,>=1->langsmith) (4.12.2)\n",
            "Requirement already satisfied: charset-normalizer<4,>=2 in /usr/local/lib/python3.10/dist-packages (from requests<3,>=2->langsmith) (3.4.0)\n",
            "Requirement already satisfied: urllib3<3,>=1.21.1 in /usr/local/lib/python3.10/dist-packages (from requests<3,>=2->langsmith) (2.2.3)\n",
            "Requirement already satisfied: exceptiongroup in /usr/local/lib/python3.10/dist-packages (from anyio->httpx<1,>=0.23.0->langsmith) (1.2.2)\n"
          ]
        }
      ],
      "source": [
        "!pip install langgraph\n",
        "!pip install langsmith"
      ]
    },
    {
      "cell_type": "code",
      "source": [
        "!pip install langchain\n",
        "!pip install langchain_groq\n",
        "!pip install langchain_community"
      ],
      "metadata": {
        "colab": {
          "base_uri": "https://localhost:8080/"
        },
        "id": "d0i70fTfUqHN",
        "outputId": "1ac9d0e6-61a6-4764-e0e9-0305b6196e03"
      },
      "execution_count": 2,
      "outputs": [
        {
          "output_type": "stream",
          "name": "stdout",
          "text": [
            "Requirement already satisfied: langchain in /usr/local/lib/python3.10/dist-packages (0.3.7)\n",
            "Requirement already satisfied: PyYAML>=5.3 in /usr/local/lib/python3.10/dist-packages (from langchain) (6.0.2)\n",
            "Requirement already satisfied: SQLAlchemy<3,>=1.4 in /usr/local/lib/python3.10/dist-packages (from langchain) (2.0.35)\n",
            "Requirement already satisfied: aiohttp<4.0.0,>=3.8.3 in /usr/local/lib/python3.10/dist-packages (from langchain) (3.10.10)\n",
            "Requirement already satisfied: async-timeout<5.0.0,>=4.0.0 in /usr/local/lib/python3.10/dist-packages (from langchain) (4.0.3)\n",
            "Requirement already satisfied: langchain-core<0.4.0,>=0.3.15 in /usr/local/lib/python3.10/dist-packages (from langchain) (0.3.17)\n",
            "Requirement already satisfied: langchain-text-splitters<0.4.0,>=0.3.0 in /usr/local/lib/python3.10/dist-packages (from langchain) (0.3.2)\n",
            "Requirement already satisfied: langsmith<0.2.0,>=0.1.17 in /usr/local/lib/python3.10/dist-packages (from langchain) (0.1.142)\n",
            "Requirement already satisfied: numpy<2,>=1 in /usr/local/lib/python3.10/dist-packages (from langchain) (1.26.4)\n",
            "Requirement already satisfied: pydantic<3.0.0,>=2.7.4 in /usr/local/lib/python3.10/dist-packages (from langchain) (2.9.2)\n",
            "Requirement already satisfied: requests<3,>=2 in /usr/local/lib/python3.10/dist-packages (from langchain) (2.32.3)\n",
            "Requirement already satisfied: tenacity!=8.4.0,<10,>=8.1.0 in /usr/local/lib/python3.10/dist-packages (from langchain) (9.0.0)\n",
            "Requirement already satisfied: aiohappyeyeballs>=2.3.0 in /usr/local/lib/python3.10/dist-packages (from aiohttp<4.0.0,>=3.8.3->langchain) (2.4.3)\n",
            "Requirement already satisfied: aiosignal>=1.1.2 in /usr/local/lib/python3.10/dist-packages (from aiohttp<4.0.0,>=3.8.3->langchain) (1.3.1)\n",
            "Requirement already satisfied: attrs>=17.3.0 in /usr/local/lib/python3.10/dist-packages (from aiohttp<4.0.0,>=3.8.3->langchain) (24.2.0)\n",
            "Requirement already satisfied: frozenlist>=1.1.1 in /usr/local/lib/python3.10/dist-packages (from aiohttp<4.0.0,>=3.8.3->langchain) (1.5.0)\n",
            "Requirement already satisfied: multidict<7.0,>=4.5 in /usr/local/lib/python3.10/dist-packages (from aiohttp<4.0.0,>=3.8.3->langchain) (6.1.0)\n",
            "Requirement already satisfied: yarl<2.0,>=1.12.0 in /usr/local/lib/python3.10/dist-packages (from aiohttp<4.0.0,>=3.8.3->langchain) (1.17.1)\n",
            "Requirement already satisfied: jsonpatch<2.0,>=1.33 in /usr/local/lib/python3.10/dist-packages (from langchain-core<0.4.0,>=0.3.15->langchain) (1.33)\n",
            "Requirement already satisfied: packaging<25,>=23.2 in /usr/local/lib/python3.10/dist-packages (from langchain-core<0.4.0,>=0.3.15->langchain) (24.2)\n",
            "Requirement already satisfied: typing-extensions>=4.7 in /usr/local/lib/python3.10/dist-packages (from langchain-core<0.4.0,>=0.3.15->langchain) (4.12.2)\n",
            "Requirement already satisfied: httpx<1,>=0.23.0 in /usr/local/lib/python3.10/dist-packages (from langsmith<0.2.0,>=0.1.17->langchain) (0.27.2)\n",
            "Requirement already satisfied: orjson<4.0.0,>=3.9.14 in /usr/local/lib/python3.10/dist-packages (from langsmith<0.2.0,>=0.1.17->langchain) (3.10.11)\n",
            "Requirement already satisfied: requests-toolbelt<2.0.0,>=1.0.0 in /usr/local/lib/python3.10/dist-packages (from langsmith<0.2.0,>=0.1.17->langchain) (1.0.0)\n",
            "Requirement already satisfied: annotated-types>=0.6.0 in /usr/local/lib/python3.10/dist-packages (from pydantic<3.0.0,>=2.7.4->langchain) (0.7.0)\n",
            "Requirement already satisfied: pydantic-core==2.23.4 in /usr/local/lib/python3.10/dist-packages (from pydantic<3.0.0,>=2.7.4->langchain) (2.23.4)\n",
            "Requirement already satisfied: charset-normalizer<4,>=2 in /usr/local/lib/python3.10/dist-packages (from requests<3,>=2->langchain) (3.4.0)\n",
            "Requirement already satisfied: idna<4,>=2.5 in /usr/local/lib/python3.10/dist-packages (from requests<3,>=2->langchain) (3.10)\n",
            "Requirement already satisfied: urllib3<3,>=1.21.1 in /usr/local/lib/python3.10/dist-packages (from requests<3,>=2->langchain) (2.2.3)\n",
            "Requirement already satisfied: certifi>=2017.4.17 in /usr/local/lib/python3.10/dist-packages (from requests<3,>=2->langchain) (2024.8.30)\n",
            "Requirement already satisfied: greenlet!=0.4.17 in /usr/local/lib/python3.10/dist-packages (from SQLAlchemy<3,>=1.4->langchain) (3.1.1)\n",
            "Requirement already satisfied: anyio in /usr/local/lib/python3.10/dist-packages (from httpx<1,>=0.23.0->langsmith<0.2.0,>=0.1.17->langchain) (3.7.1)\n",
            "Requirement already satisfied: httpcore==1.* in /usr/local/lib/python3.10/dist-packages (from httpx<1,>=0.23.0->langsmith<0.2.0,>=0.1.17->langchain) (1.0.6)\n",
            "Requirement already satisfied: sniffio in /usr/local/lib/python3.10/dist-packages (from httpx<1,>=0.23.0->langsmith<0.2.0,>=0.1.17->langchain) (1.3.1)\n",
            "Requirement already satisfied: h11<0.15,>=0.13 in /usr/local/lib/python3.10/dist-packages (from httpcore==1.*->httpx<1,>=0.23.0->langsmith<0.2.0,>=0.1.17->langchain) (0.14.0)\n",
            "Requirement already satisfied: jsonpointer>=1.9 in /usr/local/lib/python3.10/dist-packages (from jsonpatch<2.0,>=1.33->langchain-core<0.4.0,>=0.3.15->langchain) (3.0.0)\n",
            "Requirement already satisfied: propcache>=0.2.0 in /usr/local/lib/python3.10/dist-packages (from yarl<2.0,>=1.12.0->aiohttp<4.0.0,>=3.8.3->langchain) (0.2.0)\n",
            "Requirement already satisfied: exceptiongroup in /usr/local/lib/python3.10/dist-packages (from anyio->httpx<1,>=0.23.0->langsmith<0.2.0,>=0.1.17->langchain) (1.2.2)\n",
            "Requirement already satisfied: langchain_groq in /usr/local/lib/python3.10/dist-packages (0.2.1)\n",
            "Requirement already satisfied: groq<1,>=0.4.1 in /usr/local/lib/python3.10/dist-packages (from langchain_groq) (0.12.0)\n",
            "Requirement already satisfied: langchain-core<0.4.0,>=0.3.15 in /usr/local/lib/python3.10/dist-packages (from langchain_groq) (0.3.17)\n",
            "Requirement already satisfied: anyio<5,>=3.5.0 in /usr/local/lib/python3.10/dist-packages (from groq<1,>=0.4.1->langchain_groq) (3.7.1)\n",
            "Requirement already satisfied: distro<2,>=1.7.0 in /usr/local/lib/python3.10/dist-packages (from groq<1,>=0.4.1->langchain_groq) (1.9.0)\n",
            "Requirement already satisfied: httpx<1,>=0.23.0 in /usr/local/lib/python3.10/dist-packages (from groq<1,>=0.4.1->langchain_groq) (0.27.2)\n",
            "Requirement already satisfied: pydantic<3,>=1.9.0 in /usr/local/lib/python3.10/dist-packages (from groq<1,>=0.4.1->langchain_groq) (2.9.2)\n",
            "Requirement already satisfied: sniffio in /usr/local/lib/python3.10/dist-packages (from groq<1,>=0.4.1->langchain_groq) (1.3.1)\n",
            "Requirement already satisfied: typing-extensions<5,>=4.7 in /usr/local/lib/python3.10/dist-packages (from groq<1,>=0.4.1->langchain_groq) (4.12.2)\n",
            "Requirement already satisfied: PyYAML>=5.3 in /usr/local/lib/python3.10/dist-packages (from langchain-core<0.4.0,>=0.3.15->langchain_groq) (6.0.2)\n",
            "Requirement already satisfied: jsonpatch<2.0,>=1.33 in /usr/local/lib/python3.10/dist-packages (from langchain-core<0.4.0,>=0.3.15->langchain_groq) (1.33)\n",
            "Requirement already satisfied: langsmith<0.2.0,>=0.1.125 in /usr/local/lib/python3.10/dist-packages (from langchain-core<0.4.0,>=0.3.15->langchain_groq) (0.1.142)\n",
            "Requirement already satisfied: packaging<25,>=23.2 in /usr/local/lib/python3.10/dist-packages (from langchain-core<0.4.0,>=0.3.15->langchain_groq) (24.2)\n",
            "Requirement already satisfied: tenacity!=8.4.0,<10.0.0,>=8.1.0 in /usr/local/lib/python3.10/dist-packages (from langchain-core<0.4.0,>=0.3.15->langchain_groq) (9.0.0)\n",
            "Requirement already satisfied: idna>=2.8 in /usr/local/lib/python3.10/dist-packages (from anyio<5,>=3.5.0->groq<1,>=0.4.1->langchain_groq) (3.10)\n",
            "Requirement already satisfied: exceptiongroup in /usr/local/lib/python3.10/dist-packages (from anyio<5,>=3.5.0->groq<1,>=0.4.1->langchain_groq) (1.2.2)\n",
            "Requirement already satisfied: certifi in /usr/local/lib/python3.10/dist-packages (from httpx<1,>=0.23.0->groq<1,>=0.4.1->langchain_groq) (2024.8.30)\n",
            "Requirement already satisfied: httpcore==1.* in /usr/local/lib/python3.10/dist-packages (from httpx<1,>=0.23.0->groq<1,>=0.4.1->langchain_groq) (1.0.6)\n",
            "Requirement already satisfied: h11<0.15,>=0.13 in /usr/local/lib/python3.10/dist-packages (from httpcore==1.*->httpx<1,>=0.23.0->groq<1,>=0.4.1->langchain_groq) (0.14.0)\n",
            "Requirement already satisfied: jsonpointer>=1.9 in /usr/local/lib/python3.10/dist-packages (from jsonpatch<2.0,>=1.33->langchain-core<0.4.0,>=0.3.15->langchain_groq) (3.0.0)\n",
            "Requirement already satisfied: orjson<4.0.0,>=3.9.14 in /usr/local/lib/python3.10/dist-packages (from langsmith<0.2.0,>=0.1.125->langchain-core<0.4.0,>=0.3.15->langchain_groq) (3.10.11)\n",
            "Requirement already satisfied: requests<3,>=2 in /usr/local/lib/python3.10/dist-packages (from langsmith<0.2.0,>=0.1.125->langchain-core<0.4.0,>=0.3.15->langchain_groq) (2.32.3)\n",
            "Requirement already satisfied: requests-toolbelt<2.0.0,>=1.0.0 in /usr/local/lib/python3.10/dist-packages (from langsmith<0.2.0,>=0.1.125->langchain-core<0.4.0,>=0.3.15->langchain_groq) (1.0.0)\n",
            "Requirement already satisfied: annotated-types>=0.6.0 in /usr/local/lib/python3.10/dist-packages (from pydantic<3,>=1.9.0->groq<1,>=0.4.1->langchain_groq) (0.7.0)\n",
            "Requirement already satisfied: pydantic-core==2.23.4 in /usr/local/lib/python3.10/dist-packages (from pydantic<3,>=1.9.0->groq<1,>=0.4.1->langchain_groq) (2.23.4)\n",
            "Requirement already satisfied: charset-normalizer<4,>=2 in /usr/local/lib/python3.10/dist-packages (from requests<3,>=2->langsmith<0.2.0,>=0.1.125->langchain-core<0.4.0,>=0.3.15->langchain_groq) (3.4.0)\n",
            "Requirement already satisfied: urllib3<3,>=1.21.1 in /usr/local/lib/python3.10/dist-packages (from requests<3,>=2->langsmith<0.2.0,>=0.1.125->langchain-core<0.4.0,>=0.3.15->langchain_groq) (2.2.3)\n",
            "Requirement already satisfied: langchain_community in /usr/local/lib/python3.10/dist-packages (0.3.7)\n",
            "Requirement already satisfied: PyYAML>=5.3 in /usr/local/lib/python3.10/dist-packages (from langchain_community) (6.0.2)\n",
            "Requirement already satisfied: SQLAlchemy<2.0.36,>=1.4 in /usr/local/lib/python3.10/dist-packages (from langchain_community) (2.0.35)\n",
            "Requirement already satisfied: aiohttp<4.0.0,>=3.8.3 in /usr/local/lib/python3.10/dist-packages (from langchain_community) (3.10.10)\n",
            "Requirement already satisfied: dataclasses-json<0.7,>=0.5.7 in /usr/local/lib/python3.10/dist-packages (from langchain_community) (0.6.7)\n",
            "Requirement already satisfied: httpx-sse<0.5.0,>=0.4.0 in /usr/local/lib/python3.10/dist-packages (from langchain_community) (0.4.0)\n",
            "Requirement already satisfied: langchain<0.4.0,>=0.3.7 in /usr/local/lib/python3.10/dist-packages (from langchain_community) (0.3.7)\n",
            "Requirement already satisfied: langchain-core<0.4.0,>=0.3.17 in /usr/local/lib/python3.10/dist-packages (from langchain_community) (0.3.17)\n",
            "Requirement already satisfied: langsmith<0.2.0,>=0.1.125 in /usr/local/lib/python3.10/dist-packages (from langchain_community) (0.1.142)\n",
            "Requirement already satisfied: numpy<2,>=1 in /usr/local/lib/python3.10/dist-packages (from langchain_community) (1.26.4)\n",
            "Requirement already satisfied: pydantic-settings<3.0.0,>=2.4.0 in /usr/local/lib/python3.10/dist-packages (from langchain_community) (2.6.1)\n",
            "Requirement already satisfied: requests<3,>=2 in /usr/local/lib/python3.10/dist-packages (from langchain_community) (2.32.3)\n",
            "Requirement already satisfied: tenacity!=8.4.0,<10,>=8.1.0 in /usr/local/lib/python3.10/dist-packages (from langchain_community) (9.0.0)\n",
            "Requirement already satisfied: aiohappyeyeballs>=2.3.0 in /usr/local/lib/python3.10/dist-packages (from aiohttp<4.0.0,>=3.8.3->langchain_community) (2.4.3)\n",
            "Requirement already satisfied: aiosignal>=1.1.2 in /usr/local/lib/python3.10/dist-packages (from aiohttp<4.0.0,>=3.8.3->langchain_community) (1.3.1)\n",
            "Requirement already satisfied: attrs>=17.3.0 in /usr/local/lib/python3.10/dist-packages (from aiohttp<4.0.0,>=3.8.3->langchain_community) (24.2.0)\n",
            "Requirement already satisfied: frozenlist>=1.1.1 in /usr/local/lib/python3.10/dist-packages (from aiohttp<4.0.0,>=3.8.3->langchain_community) (1.5.0)\n",
            "Requirement already satisfied: multidict<7.0,>=4.5 in /usr/local/lib/python3.10/dist-packages (from aiohttp<4.0.0,>=3.8.3->langchain_community) (6.1.0)\n",
            "Requirement already satisfied: yarl<2.0,>=1.12.0 in /usr/local/lib/python3.10/dist-packages (from aiohttp<4.0.0,>=3.8.3->langchain_community) (1.17.1)\n",
            "Requirement already satisfied: async-timeout<5.0,>=4.0 in /usr/local/lib/python3.10/dist-packages (from aiohttp<4.0.0,>=3.8.3->langchain_community) (4.0.3)\n",
            "Requirement already satisfied: marshmallow<4.0.0,>=3.18.0 in /usr/local/lib/python3.10/dist-packages (from dataclasses-json<0.7,>=0.5.7->langchain_community) (3.23.1)\n",
            "Requirement already satisfied: typing-inspect<1,>=0.4.0 in /usr/local/lib/python3.10/dist-packages (from dataclasses-json<0.7,>=0.5.7->langchain_community) (0.9.0)\n",
            "Requirement already satisfied: langchain-text-splitters<0.4.0,>=0.3.0 in /usr/local/lib/python3.10/dist-packages (from langchain<0.4.0,>=0.3.7->langchain_community) (0.3.2)\n",
            "Requirement already satisfied: pydantic<3.0.0,>=2.7.4 in /usr/local/lib/python3.10/dist-packages (from langchain<0.4.0,>=0.3.7->langchain_community) (2.9.2)\n",
            "Requirement already satisfied: jsonpatch<2.0,>=1.33 in /usr/local/lib/python3.10/dist-packages (from langchain-core<0.4.0,>=0.3.17->langchain_community) (1.33)\n",
            "Requirement already satisfied: packaging<25,>=23.2 in /usr/local/lib/python3.10/dist-packages (from langchain-core<0.4.0,>=0.3.17->langchain_community) (24.2)\n",
            "Requirement already satisfied: typing-extensions>=4.7 in /usr/local/lib/python3.10/dist-packages (from langchain-core<0.4.0,>=0.3.17->langchain_community) (4.12.2)\n",
            "Requirement already satisfied: httpx<1,>=0.23.0 in /usr/local/lib/python3.10/dist-packages (from langsmith<0.2.0,>=0.1.125->langchain_community) (0.27.2)\n",
            "Requirement already satisfied: orjson<4.0.0,>=3.9.14 in /usr/local/lib/python3.10/dist-packages (from langsmith<0.2.0,>=0.1.125->langchain_community) (3.10.11)\n",
            "Requirement already satisfied: requests-toolbelt<2.0.0,>=1.0.0 in /usr/local/lib/python3.10/dist-packages (from langsmith<0.2.0,>=0.1.125->langchain_community) (1.0.0)\n",
            "Requirement already satisfied: python-dotenv>=0.21.0 in /usr/local/lib/python3.10/dist-packages (from pydantic-settings<3.0.0,>=2.4.0->langchain_community) (1.0.1)\n",
            "Requirement already satisfied: charset-normalizer<4,>=2 in /usr/local/lib/python3.10/dist-packages (from requests<3,>=2->langchain_community) (3.4.0)\n",
            "Requirement already satisfied: idna<4,>=2.5 in /usr/local/lib/python3.10/dist-packages (from requests<3,>=2->langchain_community) (3.10)\n",
            "Requirement already satisfied: urllib3<3,>=1.21.1 in /usr/local/lib/python3.10/dist-packages (from requests<3,>=2->langchain_community) (2.2.3)\n",
            "Requirement already satisfied: certifi>=2017.4.17 in /usr/local/lib/python3.10/dist-packages (from requests<3,>=2->langchain_community) (2024.8.30)\n",
            "Requirement already satisfied: greenlet!=0.4.17 in /usr/local/lib/python3.10/dist-packages (from SQLAlchemy<2.0.36,>=1.4->langchain_community) (3.1.1)\n",
            "Requirement already satisfied: anyio in /usr/local/lib/python3.10/dist-packages (from httpx<1,>=0.23.0->langsmith<0.2.0,>=0.1.125->langchain_community) (3.7.1)\n",
            "Requirement already satisfied: httpcore==1.* in /usr/local/lib/python3.10/dist-packages (from httpx<1,>=0.23.0->langsmith<0.2.0,>=0.1.125->langchain_community) (1.0.6)\n",
            "Requirement already satisfied: sniffio in /usr/local/lib/python3.10/dist-packages (from httpx<1,>=0.23.0->langsmith<0.2.0,>=0.1.125->langchain_community) (1.3.1)\n",
            "Requirement already satisfied: h11<0.15,>=0.13 in /usr/local/lib/python3.10/dist-packages (from httpcore==1.*->httpx<1,>=0.23.0->langsmith<0.2.0,>=0.1.125->langchain_community) (0.14.0)\n",
            "Requirement already satisfied: jsonpointer>=1.9 in /usr/local/lib/python3.10/dist-packages (from jsonpatch<2.0,>=1.33->langchain-core<0.4.0,>=0.3.17->langchain_community) (3.0.0)\n",
            "Requirement already satisfied: annotated-types>=0.6.0 in /usr/local/lib/python3.10/dist-packages (from pydantic<3.0.0,>=2.7.4->langchain<0.4.0,>=0.3.7->langchain_community) (0.7.0)\n",
            "Requirement already satisfied: pydantic-core==2.23.4 in /usr/local/lib/python3.10/dist-packages (from pydantic<3.0.0,>=2.7.4->langchain<0.4.0,>=0.3.7->langchain_community) (2.23.4)\n",
            "Requirement already satisfied: mypy-extensions>=0.3.0 in /usr/local/lib/python3.10/dist-packages (from typing-inspect<1,>=0.4.0->dataclasses-json<0.7,>=0.5.7->langchain_community) (1.0.0)\n",
            "Requirement already satisfied: propcache>=0.2.0 in /usr/local/lib/python3.10/dist-packages (from yarl<2.0,>=1.12.0->aiohttp<4.0.0,>=3.8.3->langchain_community) (0.2.0)\n",
            "Requirement already satisfied: exceptiongroup in /usr/local/lib/python3.10/dist-packages (from anyio->httpx<1,>=0.23.0->langsmith<0.2.0,>=0.1.125->langchain_community) (1.2.2)\n"
          ]
        }
      ]
    },
    {
      "cell_type": "code",
      "source": [
        "from google.colab import userdata\n",
        "groq = userdata.get('GROQ_API_KEY')\n",
        "langsmith = userdata.get('LANGCHAIN_API_KEY')"
      ],
      "metadata": {
        "id": "L4OutPOOU7Sf"
      },
      "execution_count": 3,
      "outputs": []
    },
    {
      "cell_type": "code",
      "source": [
        "import os\n",
        "os.environ[\"LANGCHAIN_API_KEY\"] = langsmith\n",
        "os.environ[\"LANGCHAIN_TRACING_V2\"] = \"true\"\n",
        "os.environ[\"LANGCHAIN_PROJECT\"] = \"Langgraph_Project\""
      ],
      "metadata": {
        "id": "t2RUuSgMYrH4"
      },
      "execution_count": 4,
      "outputs": []
    },
    {
      "cell_type": "code",
      "source": [
        "from langchain_groq import ChatGroq"
      ],
      "metadata": {
        "id": "UvuiJtlwtqD9"
      },
      "execution_count": 5,
      "outputs": []
    },
    {
      "cell_type": "code",
      "source": [
        "LLM = ChatGroq(groq_api_key = groq, model_name=\"Gemma2-9b-It\")\n",
        "LLM"
      ],
      "metadata": {
        "colab": {
          "base_uri": "https://localhost:8080/"
        },
        "id": "9wKltDxpuFkE",
        "outputId": "9ab641bc-ca27-43ee-90f5-6fc1bfe0dcbd"
      },
      "execution_count": 6,
      "outputs": [
        {
          "output_type": "execute_result",
          "data": {
            "text/plain": [
              "ChatGroq(client=<groq.resources.chat.completions.Completions object at 0x7d0509216740>, async_client=<groq.resources.chat.completions.AsyncCompletions object at 0x7d0509215480>, model_name='Gemma2-9b-It', model_kwargs={}, groq_api_key=SecretStr('**********'))"
            ]
          },
          "metadata": {},
          "execution_count": 6
        }
      ]
    },
    {
      "cell_type": "code",
      "source": [
        "from typing import Annotated\n",
        "from typing_extensions import TypedDict\n",
        "from langgraph.graph import StateGraph, START, END\n",
        "from langgraph.graph.message import add_messages"
      ],
      "metadata": {
        "id": "3aON4sjxu7DT"
      },
      "execution_count": 7,
      "outputs": []
    },
    {
      "cell_type": "code",
      "source": [
        "class State(TypedDict):\n",
        "  messages : Annotated[list, add_messages]\n",
        "\n",
        "Graph_builder = StateGraph(State)\n",
        "\n",
        "Graph_builder"
      ],
      "metadata": {
        "colab": {
          "base_uri": "https://localhost:8080/"
        },
        "id": "6Tk1yEcawD1S",
        "outputId": "0e03eb6d-5c51-4cc2-e959-703c068955fa"
      },
      "execution_count": 8,
      "outputs": [
        {
          "output_type": "execute_result",
          "data": {
            "text/plain": [
              "<langgraph.graph.state.StateGraph at 0x7d05266a68c0>"
            ]
          },
          "metadata": {},
          "execution_count": 8
        }
      ]
    },
    {
      "cell_type": "code",
      "source": [
        "def Chatbot(state:State):\n",
        "  return {\"messages\" : LLM.invoke(state['messages'])}"
      ],
      "metadata": {
        "id": "4xQjVsWmxUuo"
      },
      "execution_count": 9,
      "outputs": []
    },
    {
      "cell_type": "code",
      "source": [
        "Graph_builder.add_node(\"Chatbot\", Chatbot)\n",
        "Graph_builder"
      ],
      "metadata": {
        "colab": {
          "base_uri": "https://localhost:8080/"
        },
        "id": "RGRcfkl2yI33",
        "outputId": "6e17b84d-77a5-4f44-f891-2aea0a9962f4"
      },
      "execution_count": 10,
      "outputs": [
        {
          "output_type": "execute_result",
          "data": {
            "text/plain": [
              "<langgraph.graph.state.StateGraph at 0x7d05266a68c0>"
            ]
          },
          "metadata": {},
          "execution_count": 10
        }
      ]
    },
    {
      "cell_type": "code",
      "source": [
        "Graph_builder.add_edge(START, \"Chatbot\")\n",
        "Graph_builder.add_edge(\"Chatbot\", END)"
      ],
      "metadata": {
        "colab": {
          "base_uri": "https://localhost:8080/"
        },
        "id": "wld9BdBuyhxs",
        "outputId": "3159f1de-61e6-4f2a-dfc3-371bd00a2fa8"
      },
      "execution_count": 11,
      "outputs": [
        {
          "output_type": "execute_result",
          "data": {
            "text/plain": [
              "<langgraph.graph.state.StateGraph at 0x7d05266a68c0>"
            ]
          },
          "metadata": {},
          "execution_count": 11
        }
      ]
    },
    {
      "cell_type": "code",
      "source": [
        "graph = Graph_builder.compile()"
      ],
      "metadata": {
        "id": "rw-5MCodzUT8"
      },
      "execution_count": 12,
      "outputs": []
    },
    {
      "cell_type": "code",
      "source": [
        "from IPython.display import Image, display\n",
        "try:\n",
        "  display(Image(graph.get_graph().draw_mermaid_png()))\n",
        "except Exception:\n",
        "  pass"
      ],
      "metadata": {
        "colab": {
          "base_uri": "https://localhost:8080/",
          "height": 251
        },
        "id": "3UbqAco5zh7L",
        "outputId": "436ea439-4ccb-44ad-aa80-a6584a8d97df"
      },
      "execution_count": 13,
      "outputs": [
        {
          "output_type": "display_data",
          "data": {
            "image/png": "[encoded data removed]",
            "text/plain": [
              "<IPython.core.display.Image object>"
            ]
          },
          "metadata": {}
        }
      ]
    },
    {
      "cell_type": "code",
      "source": [
        "#del input\n",
        "user_message = input\n",
        "while True:\n",
        "  user_input = input(\"User: \")\n",
        "  if user_input.lower() in [\"quit\",\"q\"]:\n",
        "    print(\"Thank you and have a nice day\")\n",
        "    break\n",
        "  for query in graph.stream({'messages':(\"user\",user_input)}):\n",
        "    print(query.values())\n",
        "    for response in query.values():\n",
        "      print(response['messages'])\n",
        "      print(\"Assistant:\",response[\"messages\"].content)"
      ],
      "metadata": {
        "colab": {
          "base_uri": "https://localhost:8080/"
        },
        "id": "AvUbzqvV0TWQ",
        "outputId": "75a859d0-c75b-4828-d79b-3d0a5f288f74"
      },
      "execution_count": 14,
      "outputs": [
        {
          "output_type": "stream",
          "name": "stdout",
          "text": [
            "User: hey\n",
            "dict_values([{'messages': AIMessage(content='Hey there! 👋 \\n\\nWhat can I do for you today?\\n', additional_kwargs={}, response_metadata={'token_usage': {'completion_tokens': 17, 'prompt_tokens': 10, 'total_tokens': 27, 'completion_time': 0.030909091, 'prompt_time': 3.8e-07, 'queue_time': 0.014421906, 'total_time': 0.030909471}, 'model_name': 'Gemma2-9b-It', 'system_fingerprint': 'fp_10c08bf97d', 'finish_reason': 'stop', 'logprobs': None}, id='run-79d07ce2-50aa-4668-99d7-b63b1698bd62-0', usage_metadata={'input_tokens': 10, 'output_tokens': 17, 'total_tokens': 27})}])\n",
            "content='Hey there! 👋 \\n\\nWhat can I do for you today?\\n' additional_kwargs={} response_metadata={'token_usage': {'completion_tokens': 17, 'prompt_tokens': 10, 'total_tokens': 27, 'completion_time': 0.030909091, 'prompt_time': 3.8e-07, 'queue_time': 0.014421906, 'total_time': 0.030909471}, 'model_name': 'Gemma2-9b-It', 'system_fingerprint': 'fp_10c08bf97d', 'finish_reason': 'stop', 'logprobs': None} id='run-79d07ce2-50aa-4668-99d7-b63b1698bd62-0' usage_metadata={'input_tokens': 10, 'output_tokens': 17, 'total_tokens': 27}\n",
            "Assistant: Hey there! 👋 \n",
            "\n",
            "What can I do for you today?\n",
            "\n",
            "User: tell me about machine learning\n",
            "dict_values([{'messages': AIMessage(content='## Machine Learning: Teaching Computers to Learn\\n\\nMachine learning (ML) is a fascinating field of artificial intelligence (AI) that empowers computers to learn from data without explicit programming. \\n\\nInstead of relying on predefined rules, ML algorithms identify patterns, make predictions, and improve their performance over time based on the data they are trained on. \\n\\nThink of it like teaching a child to recognize cats:\\n\\n* **Traditional programming:** You\\'d give the child a list of rules like \"cats have four legs, fur, and pointy ears.\"\\n* **Machine learning:** You\\'d show the child countless pictures of cats, letting them identify the common features themselves.\\n\\n**Here\\'s a breakdown:**\\n\\n**Types of Machine Learning:**\\n\\n* **Supervised Learning:** The algorithm is trained on labeled data (e.g., pictures labeled \"cat\" or \"dog\"). It learns to map inputs to outputs, predicting the label for new, unseen data.\\n* **Unsupervised Learning:** The algorithm explores unlabeled data, discovering hidden patterns and structures (e.g., grouping similar customers based on their purchasing habits).\\n* **Reinforcement Learning:** The algorithm learns through trial and error, receiving rewards for correct actions and penalties for incorrect ones. It aims to maximize its cumulative reward over time (e.g., training a game-playing AI).\\n\\n**Applications:**\\n\\nML is transforming various industries:\\n\\n* **Healthcare:** Diagnosing diseases, predicting patient outcomes, personalized medicine.\\n* **Finance:** Fraud detection, credit risk assessment, algorithmic trading.\\n* **Marketing:** Customer segmentation, targeted advertising, personalized recommendations.\\n* **Transportation:** Self-driving cars, traffic optimization, predictive maintenance.\\n\\n**Key Concepts:**\\n\\n* **Data:** The fuel of ML. Algorithms learn from vast amounts of data.\\n* **Features:** The individual characteristics or attributes of the data used to train the model.\\n* **Model:** A mathematical representation of the learned patterns.\\n* **Training:** The process of feeding data to the algorithm to adjust its parameters and improve its performance.\\n* **Evaluation:** Assessing the model\\'s accuracy and performance on unseen data.\\n\\n**Challenges:**\\n\\n* **Data quality:** ML models are only as good as the data they are trained on.\\n* **Bias:** Models can inherit biases from the data, leading to unfair or inaccurate predictions.\\n* **Explainability:** Understanding how ML models make decisions can be challenging.\\n* **Ethical considerations:**\\n\\nML raises ethical concerns regarding privacy, fairness, and accountability.\\n\\n**The Future:**\\n\\nMachine learning is rapidly evolving, with new algorithms, techniques, and applications emerging constantly. Its potential to solve complex problems and improve our lives is immense.\\n\\n\\nLet me know if you have any more questions or want to explore specific aspects of machine learning in more detail!\\n\\n', additional_kwargs={}, response_metadata={'token_usage': {'completion_tokens': 583, 'prompt_tokens': 14, 'total_tokens': 597, 'completion_time': 1.06, 'prompt_time': 8.175e-05, 'queue_time': 0.01324675, 'total_time': 1.06008175}, 'model_name': 'Gemma2-9b-It', 'system_fingerprint': 'fp_10c08bf97d', 'finish_reason': 'stop', 'logprobs': None}, id='run-bcda6238-679a-4a46-889b-cbdb6caef1b0-0', usage_metadata={'input_tokens': 14, 'output_tokens': 583, 'total_tokens': 597})}])\n",
            "content='## Machine Learning: Teaching Computers to Learn\\n\\nMachine learning (ML) is a fascinating field of artificial intelligence (AI) that empowers computers to learn from data without explicit programming. \\n\\nInstead of relying on predefined rules, ML algorithms identify patterns, make predictions, and improve their performance over time based on the data they are trained on. \\n\\nThink of it like teaching a child to recognize cats:\\n\\n* **Traditional programming:** You\\'d give the child a list of rules like \"cats have four legs, fur, and pointy ears.\"\\n* **Machine learning:** You\\'d show the child countless pictures of cats, letting them identify the common features themselves.\\n\\n**Here\\'s a breakdown:**\\n\\n**Types of Machine Learning:**\\n\\n* **Supervised Learning:** The algorithm is trained on labeled data (e.g., pictures labeled \"cat\" or \"dog\"). It learns to map inputs to outputs, predicting the label for new, unseen data.\\n* **Unsupervised Learning:** The algorithm explores unlabeled data, discovering hidden patterns and structures (e.g., grouping similar customers based on their purchasing habits).\\n* **Reinforcement Learning:** The algorithm learns through trial and error, receiving rewards for correct actions and penalties for incorrect ones. It aims to maximize its cumulative reward over time (e.g., training a game-playing AI).\\n\\n**Applications:**\\n\\nML is transforming various industries:\\n\\n* **Healthcare:** Diagnosing diseases, predicting patient outcomes, personalized medicine.\\n* **Finance:** Fraud detection, credit risk assessment, algorithmic trading.\\n* **Marketing:** Customer segmentation, targeted advertising, personalized recommendations.\\n* **Transportation:** Self-driving cars, traffic optimization, predictive maintenance.\\n\\n**Key Concepts:**\\n\\n* **Data:** The fuel of ML. Algorithms learn from vast amounts of data.\\n* **Features:** The individual characteristics or attributes of the data used to train the model.\\n* **Model:** A mathematical representation of the learned patterns.\\n* **Training:** The process of feeding data to the algorithm to adjust its parameters and improve its performance.\\n* **Evaluation:** Assessing the model\\'s accuracy and performance on unseen data.\\n\\n**Challenges:**\\n\\n* **Data quality:** ML models are only as good as the data they are trained on.\\n* **Bias:** Models can inherit biases from the data, leading to unfair or inaccurate predictions.\\n* **Explainability:** Understanding how ML models make decisions can be challenging.\\n* **Ethical considerations:**\\n\\nML raises ethical concerns regarding privacy, fairness, and accountability.\\n\\n**The Future:**\\n\\nMachine learning is rapidly evolving, with new algorithms, techniques, and applications emerging constantly. Its potential to solve complex problems and improve our lives is immense.\\n\\n\\nLet me know if you have any more questions or want to explore specific aspects of machine learning in more detail!\\n\\n' additional_kwargs={} response_metadata={'token_usage': {'completion_tokens': 583, 'prompt_tokens': 14, 'total_tokens': 597, 'completion_time': 1.06, 'prompt_time': 8.175e-05, 'queue_time': 0.01324675, 'total_time': 1.06008175}, 'model_name': 'Gemma2-9b-It', 'system_fingerprint': 'fp_10c08bf97d', 'finish_reason': 'stop', 'logprobs': None} id='run-bcda6238-679a-4a46-889b-cbdb6caef1b0-0' usage_metadata={'input_tokens': 14, 'output_tokens': 583, 'total_tokens': 597}\n",
            "Assistant: ## Machine Learning: Teaching Computers to Learn\n",
            "\n",
            "Machine learning (ML) is a fascinating field of artificial intelligence (AI) that empowers computers to learn from data without explicit programming. \n",
            "\n",
            "Instead of relying on predefined rules, ML algorithms identify patterns, make predictions, and improve their performance over time based on the data they are trained on. \n",
            "\n",
            "Think of it like teaching a child to recognize cats:\n",
            "\n",
            "* **Traditional programming:** You'd give the child a list of rules like \"cats have four legs, fur, and pointy ears.\"\n",
            "* **Machine learning:** You'd show the child countless pictures of cats, letting them identify the common features themselves.\n",
            "\n",
            "**Here's a breakdown:**\n",
            "\n",
            "**Types of Machine Learning:**\n",
            "\n",
            "* **Supervised Learning:** The algorithm is trained on labeled data (e.g., pictures labeled \"cat\" or \"dog\"). It learns to map inputs to outputs, predicting the label for new, unseen data.\n",
            "* **Unsupervised Learning:** The algorithm explores unlabeled data, discovering hidden patterns and structures (e.g., grouping similar customers based on their purchasing habits).\n",
            "* **Reinforcement Learning:** The algorithm learns through trial and error, receiving rewards for correct actions and penalties for incorrect ones. It aims to maximize its cumulative reward over time (e.g., training a game-playing AI).\n",
            "\n",
            "**Applications:**\n",
            "\n",
            "ML is transforming various industries:\n",
            "\n",
            "* **Healthcare:** Diagnosing diseases, predicting patient outcomes, personalized medicine.\n",
            "* **Finance:** Fraud detection, credit risk assessment, algorithmic trading.\n",
            "* **Marketing:** Customer segmentation, targeted advertising, personalized recommendations.\n",
            "* **Transportation:** Self-driving cars, traffic optimization, predictive maintenance.\n",
            "\n",
            "**Key Concepts:**\n",
            "\n",
            "* **Data:** The fuel of ML. Algorithms learn from vast amounts of data.\n",
            "* **Features:** The individual characteristics or attributes of the data used to train the model.\n",
            "* **Model:** A mathematical representation of the learned patterns.\n",
            "* **Training:** The process of feeding data to the algorithm to adjust its parameters and improve its performance.\n",
            "* **Evaluation:** Assessing the model's accuracy and performance on unseen data.\n",
            "\n",
            "**Challenges:**\n",
            "\n",
            "* **Data quality:** ML models are only as good as the data they are trained on.\n",
            "* **Bias:** Models can inherit biases from the data, leading to unfair or inaccurate predictions.\n",
            "* **Explainability:** Understanding how ML models make decisions can be challenging.\n",
            "* **Ethical considerations:**\n",
            "\n",
            "ML raises ethical concerns regarding privacy, fairness, and accountability.\n",
            "\n",
            "**The Future:**\n",
            "\n",
            "Machine learning is rapidly evolving, with new algorithms, techniques, and applications emerging constantly. Its potential to solve complex problems and improve our lives is immense.\n",
            "\n",
            "\n",
            "Let me know if you have any more questions or want to explore specific aspects of machine learning in more detail!\n",
            "\n",
            "\n",
            "User: what is AI\n",
            "dict_values([{'messages': AIMessage(content='AI, or **Artificial Intelligence**, is a broad field in computer science focused on creating machines capable of performing tasks that typically require human intelligence. \\n\\nHere\\'s a breakdown:\\n\\n**What AI aims to do:**\\n\\n* **Learn:** AI systems can learn from data, identifying patterns and relationships.\\n* **Reason:** They can use logic and rules to solve problems and make decisions.\\n* **Perceive:** AI can process sensory information like images, sound, and text.\\n* **Understand and generate language:**  AI can understand human language and generate its own text.\\n* **Interact with the world:** AI can control physical systems and interact with their environment.\\n\\n**Types of AI:**\\n\\n* **Narrow or Weak AI:** Designed to perform a specific task, like playing chess or recommending products. Most AI we encounter today falls into this category.\\n* **General or Strong AI:** Hypothetical AI with human-level intelligence, capable of learning and performing any intellectual task a human can. This type of AI doesn\\'t yet exist.\\n* **Super AI:**  Hypothetical AI that surpasses human intelligence in all aspects. This is purely speculative.\\n\\n**How AI works:**\\n\\nAI relies on various techniques, including:\\n\\n* **Machine learning:** Algorithms that allow computers to learn from data without explicit programming.\\n* **Deep learning:**  A subset of machine learning using artificial neural networks with multiple layers to analyze vast amounts of data.\\n* **Natural language processing (NLP):** Enables computers to understand, interpret, and generate human language.\\n* **Computer vision:**  Allows computers to \"see\" and interpret images and videos.\\n\\n**Examples of AI in everyday life:**\\n\\n* **Virtual assistants:** Siri, Alexa, Google Assistant\\n* **Recommendation systems:** Netflix, Amazon\\n* **Self-driving cars**\\n* **Fraud detection**\\n* **Medical diagnosis**\\n\\n\\nAI is a rapidly evolving field with the potential to revolutionize many aspects of our lives. It\\'s important to understand its capabilities and limitations to harness its benefits responsibly.\\n', additional_kwargs={}, response_metadata={'token_usage': {'completion_tokens': 426, 'prompt_tokens': 12, 'total_tokens': 438, 'completion_time': 0.774545455, 'prompt_time': 0.00011075, 'queue_time': 0.01328448, 'total_time': 0.774656205}, 'model_name': 'Gemma2-9b-It', 'system_fingerprint': 'fp_10c08bf97d', 'finish_reason': 'stop', 'logprobs': None}, id='run-02a39cd7-728b-433e-a6c4-18849f0b7d76-0', usage_metadata={'input_tokens': 12, 'output_tokens': 426, 'total_tokens': 438})}])\n",
            "content='AI, or **Artificial Intelligence**, is a broad field in computer science focused on creating machines capable of performing tasks that typically require human intelligence. \\n\\nHere\\'s a breakdown:\\n\\n**What AI aims to do:**\\n\\n* **Learn:** AI systems can learn from data, identifying patterns and relationships.\\n* **Reason:** They can use logic and rules to solve problems and make decisions.\\n* **Perceive:** AI can process sensory information like images, sound, and text.\\n* **Understand and generate language:**  AI can understand human language and generate its own text.\\n* **Interact with the world:** AI can control physical systems and interact with their environment.\\n\\n**Types of AI:**\\n\\n* **Narrow or Weak AI:** Designed to perform a specific task, like playing chess or recommending products. Most AI we encounter today falls into this category.\\n* **General or Strong AI:** Hypothetical AI with human-level intelligence, capable of learning and performing any intellectual task a human can. This type of AI doesn\\'t yet exist.\\n* **Super AI:**  Hypothetical AI that surpasses human intelligence in all aspects. This is purely speculative.\\n\\n**How AI works:**\\n\\nAI relies on various techniques, including:\\n\\n* **Machine learning:** Algorithms that allow computers to learn from data without explicit programming.\\n* **Deep learning:**  A subset of machine learning using artificial neural networks with multiple layers to analyze vast amounts of data.\\n* **Natural language processing (NLP):** Enables computers to understand, interpret, and generate human language.\\n* **Computer vision:**  Allows computers to \"see\" and interpret images and videos.\\n\\n**Examples of AI in everyday life:**\\n\\n* **Virtual assistants:** Siri, Alexa, Google Assistant\\n* **Recommendation systems:** Netflix, Amazon\\n* **Self-driving cars**\\n* **Fraud detection**\\n* **Medical diagnosis**\\n\\n\\nAI is a rapidly evolving field with the potential to revolutionize many aspects of our lives. It\\'s important to understand its capabilities and limitations to harness its benefits responsibly.\\n' additional_kwargs={} response_metadata={'token_usage': {'completion_tokens': 426, 'prompt_tokens': 12, 'total_tokens': 438, 'completion_time': 0.774545455, 'prompt_time': 0.00011075, 'queue_time': 0.01328448, 'total_time': 0.774656205}, 'model_name': 'Gemma2-9b-It', 'system_fingerprint': 'fp_10c08bf97d', 'finish_reason': 'stop', 'logprobs': None} id='run-02a39cd7-728b-433e-a6c4-18849f0b7d76-0' usage_metadata={'input_tokens': 12, 'output_tokens': 426, 'total_tokens': 438}\n",
            "Assistant: AI, or **Artificial Intelligence**, is a broad field in computer science focused on creating machines capable of performing tasks that typically require human intelligence. \n",
            "\n",
            "Here's a breakdown:\n",
            "\n",
            "**What AI aims to do:**\n",
            "\n",
            "* **Learn:** AI systems can learn from data, identifying patterns and relationships.\n",
            "* **Reason:** They can use logic and rules to solve problems and make decisions.\n",
            "* **Perceive:** AI can process sensory information like images, sound, and text.\n",
            "* **Understand and generate language:**  AI can understand human language and generate its own text.\n",
            "* **Interact with the world:** AI can control physical systems and interact with their environment.\n",
            "\n",
            "**Types of AI:**\n",
            "\n",
            "* **Narrow or Weak AI:** Designed to perform a specific task, like playing chess or recommending products. Most AI we encounter today falls into this category.\n",
            "* **General or Strong AI:** Hypothetical AI with human-level intelligence, capable of learning and performing any intellectual task a human can. This type of AI doesn't yet exist.\n",
            "* **Super AI:**  Hypothetical AI that surpasses human intelligence in all aspects. This is purely speculative.\n",
            "\n",
            "**How AI works:**\n",
            "\n",
            "AI relies on various techniques, including:\n",
            "\n",
            "* **Machine learning:** Algorithms that allow computers to learn from data without explicit programming.\n",
            "* **Deep learning:**  A subset of machine learning using artificial neural networks with multiple layers to analyze vast amounts of data.\n",
            "* **Natural language processing (NLP):** Enables computers to understand, interpret, and generate human language.\n",
            "* **Computer vision:**  Allows computers to \"see\" and interpret images and videos.\n",
            "\n",
            "**Examples of AI in everyday life:**\n",
            "\n",
            "* **Virtual assistants:** Siri, Alexa, Google Assistant\n",
            "* **Recommendation systems:** Netflix, Amazon\n",
            "* **Self-driving cars**\n",
            "* **Fraud detection**\n",
            "* **Medical diagnosis**\n",
            "\n",
            "\n",
            "AI is a rapidly evolving field with the potential to revolutionize many aspects of our lives. It's important to understand its capabilities and limitations to harness its benefits responsibly.\n",
            "\n",
            "User: q\n",
            "Thank you and have a nice day\n"
          ]
        }
      ]
    }
  ]
}